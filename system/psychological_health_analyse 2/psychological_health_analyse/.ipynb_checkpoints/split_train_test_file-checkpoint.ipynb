{
 "cells": [
  {
   "cell_type": "code",
   "execution_count": 1,
   "metadata": {},
   "outputs": [],
   "source": [
    "import pandas as pd\n",
    "from sklearn.model_selection import train_test_split\n",
    "pd_data = pd.read_excel('./data/data.xlsx')\n",
    "# 划分训练集和测试集\n",
    "train,test = train_test_split(pd_data,test_size = 0.2,random_state=42)\n",
    "\n",
    "# 保存训练集\n",
    "writer = pd.ExcelWriter('./data/train_data.xlsx')\n",
    "df1 = pd.DataFrame(data=train)\n",
    "df1.to_excel(writer,'Sheet1',index=False)\n",
    "writer.save()\n",
    "\n",
    "# 保存测试集\n",
    "writer = pd.ExcelWriter('./data/test_data.xlsx')\n",
    "df1 = pd.DataFrame(data=test)\n",
    "df1.to_excel(writer,'Sheet1',index=False)\n",
    "writer.save()"
   ]
  },
  {
   "cell_type": "code",
   "execution_count": null,
   "metadata": {},
   "outputs": [],
   "source": [
    "a = [[1,2,3,4,0],\n",
    "    [1,2,3,4,0],\n",
    "    [1,2,3,4,0],\n",
    "    [1,2,3,4,0],\n",
    "    [1,2,3,4,0],\n",
    "    [1,2,3,4,0],]\n",
    "b = [1,2,3,4,5,6]"
   ]
  }
 ],
 "metadata": {
  "kernelspec": {
   "display_name": "Python 3",
   "language": "python",
   "name": "python3"
  },
  "language_info": {
   "codemirror_mode": {
    "name": "ipython",
    "version": 3
   },
   "file_extension": ".py",
   "mimetype": "text/x-python",
   "name": "python",
   "nbconvert_exporter": "python",
   "pygments_lexer": "ipython3",
   "version": "3.6.5"
  }
 },
 "nbformat": 4,
 "nbformat_minor": 2
}
