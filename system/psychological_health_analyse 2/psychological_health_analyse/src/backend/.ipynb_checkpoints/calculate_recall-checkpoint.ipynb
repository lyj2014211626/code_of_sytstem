{
 "cells": [
  {
   "cell_type": "code",
   "execution_count": 1,
   "metadata": {},
   "outputs": [
    {
     "name": "stdout",
     "output_type": "stream",
     "text": [
      "(36124, 40) (8996, 40)\n"
     ]
    }
   ],
   "source": [
    "import read_data\n",
    "import set_hyper_paras\n",
    "import matplotlib.pyplot as plt\n",
    "from sklearn.metrics import classification_report\n",
    "from roc import roc_curve,get_auc_score\n",
    "%matplotlib inline\n",
    "X,y = read_data.get_train_data()\n",
    "X_test,y_test = read_data.get_test_data()\n",
    "print(X.shape,X_test.shape)"
   ]
  },
  {
   "cell_type": "code",
   "execution_count": 4,
   "metadata": {},
   "outputs": [],
   "source": [
    "from sklearn.metrics import fbeta_score, make_scorer\n",
    "fbeta_macro = make_scorer(fbeta_score, beta=50,average='macro')"
   ]
  },
  {
   "cell_type": "code",
   "execution_count": 5,
   "metadata": {},
   "outputs": [
    {
     "name": "stdout",
     "output_type": "stream",
     "text": [
      "0.5724766562916852\n"
     ]
    }
   ],
   "source": [
    "from sklearn.ensemble import RandomForestClassifier\n",
    "from  sklearn.model_selection import RandomizedSearchCV\n",
    "from sklearn.neighbors import KNeighborsClassifier\n",
    "from sklearn.metrics import accuracy_score\n",
    "from scipy.stats import randint\n",
    "\n",
    "\n",
    "forest_clf = RandomForestClassifier()\n",
    "param_distribs = {\n",
    "        'n_estimators': randint(low=1, high=200),\n",
    "        'max_features': randint(low=1, high=10),\n",
    "        'max_depth': randint(low=1, high=10),\n",
    "        'min_samples_split': randint(low=1, high=10),\n",
    "        'min_samples_leaf': randint(low=2, high=10)\n",
    "    }\n",
    "rnd_search = RandomizedSearchCV(forest_clf, param_distributions=param_distribs,\n",
    "                                # 迭代10次，5折交叉验证\n",
    "                                n_iter=10, cv=5, scoring=fbeta_macro, random_state=42,n_jobs=-1)\n",
    "rnd_search.fit(X, y)\n",
    "set_hyper_paras.set_section('random_forest',rnd_search.best_params_)\n",
    "print(accuracy_score(rnd_search.best_estimator_.predict(X_test),y_test))"
   ]
  },
  {
   "cell_type": "code",
   "execution_count": 6,
   "metadata": {},
   "outputs": [],
   "source": [
    "y_pred = rnd_search.best_estimator_.predict(X_test)"
   ]
  },
  {
   "cell_type": "code",
   "execution_count": 34,
   "metadata": {},
   "outputs": [
    {
     "name": "stdout",
     "output_type": "stream",
     "text": [
      "              precision    recall  f1-score   support\n",
      "\n",
      "           0       0.83      0.77      0.80      2249\n",
      "           1       0.45      0.53      0.49      2249\n",
      "           2       0.40      0.48      0.44      2249\n",
      "           3       0.74      0.50      0.60      2249\n",
      "\n",
      "   micro avg       0.57      0.57      0.57      8996\n",
      "   macro avg       0.60      0.57      0.58      8996\n",
      "weighted avg       0.60      0.57      0.58      8996\n",
      "\n"
     ]
    }
   ],
   "source": [
    "target_names = ['0', '1', '2','3']\n",
    "print(classification_report(y_test,rnd_search.best_estimator_.predict(X_test), target_names=target_names))\n",
    "#roc_curve(X_test,y_test,rnd_search.best_estimator_,average = 'macro')"
   ]
  },
  {
   "cell_type": "code",
   "execution_count": 8,
   "metadata": {},
   "outputs": [
    {
     "data": {
      "text/plain": [
       "array([[1741,  368,  104,   36],\n",
       "       [ 284, 1202,  695,   68],\n",
       "       [  76,  793, 1085,  295],\n",
       "       [   1,  323,  803, 1122]])"
      ]
     },
     "execution_count": 8,
     "metadata": {},
     "output_type": "execute_result"
    }
   ],
   "source": [
    "from sklearn.metrics import confusion_matrix\n",
    "confusion_matrix(y_test, y_pred)"
   ]
  },
  {
   "cell_type": "code",
   "execution_count": 21,
   "metadata": {},
   "outputs": [
    {
     "data": {
      "text/plain": [
       "0.5724766562916852"
      ]
     },
     "execution_count": 21,
     "metadata": {},
     "output_type": "execute_result"
    }
   ],
   "source": [
    "from sklearn.metrics import accuracy_score,recall_score\n",
    "recall_score(y_test, y_pred, average='macro')"
   ]
  },
  {
   "cell_type": "code",
   "execution_count": 19,
   "metadata": {},
   "outputs": [
    {
     "data": {
      "text/plain": [
       "0.5724766562916852"
      ]
     },
     "execution_count": 19,
     "metadata": {},
     "output_type": "execute_result"
    }
   ],
   "source": [
    "(1741/(1741+368+104+36)+1202/(284+ 1202+  695+   68) + 1085/(76+  793+ 1085+  295) + 1122/(1+  323+  803+ 1122))/4"
   ]
  },
  {
   "cell_type": "code",
   "execution_count": 32,
   "metadata": {},
   "outputs": [],
   "source": [
    "from sklearn.metrics import confusion_matrix\n",
    "def calc_recall(y_test,y_pred,not_ig = True,\n",
    "                              ig_all = False,\n",
    "                              ig_01 = False,\n",
    "                              ig_10 = False,\n",
    "                              ig_23 = False,\n",
    "                              ig_12 = False,\n",
    "                              ig_13 = False):\n",
    "    '''\n",
    "    函数说明：计算算法的回召率\n",
    "    参数说明：\n",
    "        predict:模型在测试集上的预测结果\n",
    "        y:实际测试数据集的标记\n",
    "        not_ig:表示不忽略，优先级最高\n",
    "        ig_all:表示忽略全部，优先级仅次于not_ig\n",
    "        ig_01:忽略0->1的情况\n",
    "        其他类似\n",
    "    函数返回值:\n",
    "        算法的recall\n",
    "    '''\n",
    "    \n",
    "    if not_ig:\n",
    "        return recall_score(y_test,y_pred,average='macro')\n",
    "    conf_matrix = confusion_matrix(y_test, y_pred)\n",
    "    recall_item_denominator = [np.sum(conf_matrix[0]),\n",
    "                               np.sum(conf_matrix[1]),\n",
    "                               np.sum(conf_matrix[2]),\n",
    "                               np.sum(conf_matrix[3])]\n",
    "    recall_item_numerator = [conf_matrix[0,0],\n",
    "                             conf_matrix[1,1],\n",
    "                             conf_matrix[2,2],\n",
    "                             conf_matrix[3,3]]\n",
    "    if ig_all:\n",
    "        recall_item_numerator[0] += conf_matrix[0,1]\n",
    "        recall_item_numerator[1] += conf_matrix[1,0]\n",
    "        recall_item_numerator[2] += conf_matrix[2,3]\n",
    "        recall_item_numerator[1] += conf_matrix[1,2]\n",
    "        recall_item_numerator[1] += conf_matrix[1,3]  \n",
    "        return np.sum(np.array(recall_item_numerator)/np.array(recall_item_denominator))/4\n",
    "\n",
    "    if ig_01:\n",
    "        recall_item_numerator[0] += conf_matrix[0,1]\n",
    "    if ig_10:\n",
    "        recall_item_numerator[1] += conf_matrix[1,0]\n",
    "    if ig_23:\n",
    "        recall_item_numerator[2] += conf_matrix[2,3]\n",
    "    if ig_12:\n",
    "        recall_item_numerator[1] += conf_matrix[1,2]\n",
    "    if ig_13:\n",
    "        recall_item_numerator[1] += conf_matrix[1,3]                                                                                                  \n",
    "    return np.sum(recall_item_numerator/recall_item_denominator)/4"
   ]
  },
  {
   "cell_type": "code",
   "execution_count": 33,
   "metadata": {},
   "outputs": [
    {
     "data": {
      "text/plain": [
       "0.7625611382836817"
      ]
     },
     "execution_count": 33,
     "metadata": {},
     "output_type": "execute_result"
    }
   ],
   "source": [
    "import numpy as np\n",
    "calc_recall(y_test,y_pred,not_ig=False,ig_all = True)"
   ]
  },
  {
   "cell_type": "code",
   "execution_count": 35,
   "metadata": {},
   "outputs": [
    {
     "name": "stdout",
     "output_type": "stream",
     "text": [
      "??\n"
     ]
    }
   ],
   "source": [
    "print('??')"
   ]
  },
  {
   "cell_type": "code",
   "execution_count": null,
   "metadata": {},
   "outputs": [],
   "source": []
  },
  {
   "cell_type": "code",
   "execution_count": null,
   "metadata": {},
   "outputs": [],
   "source": []
  },
  {
   "cell_type": "code",
   "execution_count": null,
   "metadata": {},
   "outputs": [],
   "source": []
  },
  {
   "cell_type": "code",
   "execution_count": null,
   "metadata": {},
   "outputs": [],
   "source": []
  },
  {
   "cell_type": "code",
   "execution_count": null,
   "metadata": {},
   "outputs": [],
   "source": []
  },
  {
   "cell_type": "code",
   "execution_count": null,
   "metadata": {},
   "outputs": [],
   "source": []
  },
  {
   "cell_type": "code",
   "execution_count": null,
   "metadata": {},
   "outputs": [],
   "source": []
  },
  {
   "cell_type": "code",
   "execution_count": null,
   "metadata": {},
   "outputs": [],
   "source": []
  },
  {
   "cell_type": "code",
   "execution_count": null,
   "metadata": {},
   "outputs": [],
   "source": []
  },
  {
   "cell_type": "code",
   "execution_count": null,
   "metadata": {},
   "outputs": [],
   "source": []
  },
  {
   "cell_type": "code",
   "execution_count": null,
   "metadata": {},
   "outputs": [],
   "source": []
  },
  {
   "cell_type": "code",
   "execution_count": null,
   "metadata": {},
   "outputs": [],
   "source": []
  },
  {
   "cell_type": "code",
   "execution_count": null,
   "metadata": {},
   "outputs": [],
   "source": []
  },
  {
   "cell_type": "code",
   "execution_count": null,
   "metadata": {},
   "outputs": [],
   "source": []
  },
  {
   "cell_type": "code",
   "execution_count": null,
   "metadata": {},
   "outputs": [],
   "source": []
  },
  {
   "cell_type": "code",
   "execution_count": null,
   "metadata": {},
   "outputs": [],
   "source": []
  },
  {
   "cell_type": "code",
   "execution_count": null,
   "metadata": {},
   "outputs": [],
   "source": []
  },
  {
   "cell_type": "code",
   "execution_count": 1,
   "metadata": {},
   "outputs": [],
   "source": [
    "import read_data"
   ]
  },
  {
   "cell_type": "code",
   "execution_count": 2,
   "metadata": {},
   "outputs": [
    {
     "name": "stdout",
     "output_type": "stream",
     "text": [
      "[1.5 1.42 1.08 ... 1.25 1.0 1.0]\n"
     ]
    },
    {
     "data": {
      "text/plain": [
       "(array([[1.6       , 1.33      , 1.38      , ..., 0.        , 1.        ,\n",
       "         0.        ],\n",
       "        [1.2       , 1.22      , 1.08      , ..., 1.        , 0.        ,\n",
       "         0.        ],\n",
       "        [1.9       , 2.        , 1.54      , ..., 1.        , 0.        ,\n",
       "         0.        ],\n",
       "        ...,\n",
       "        [2.20974498, 1.72678658, 2.04620672, ..., 0.51624163, 0.48375837,\n",
       "         0.        ],\n",
       "        [2.7       , 4.01978172, 3.66668516, ..., 0.10136886, 0.        ,\n",
       "         0.89863114],\n",
       "        [3.17388256, 2.95936459, 3.09669003, ..., 1.        , 0.        ,\n",
       "         0.        ]]),\n",
       " array([0, 0, 0, ..., 2, 2, 2], dtype=int32),\n",
       " array([[1.9, 1.78, 1.23, ..., 0, 0, 1],\n",
       "        [1.7, 1.89, 1.31, ..., 0, 0, 1],\n",
       "        [1.5, 1.56, 1.15, ..., 1, 0, 0],\n",
       "        ...,\n",
       "        [2.5, 2.56, 1.54, ..., 0, 0, 1],\n",
       "        [1.0, 1.22, 1.08, ..., 1, 0, 0],\n",
       "        [1.0, 1.0, 1.0, ..., 1, 0, 0]], dtype=object),\n",
       " array([0, 0, 0, ..., 0, 0, 0], dtype=int32))"
      ]
     },
     "execution_count": 2,
     "metadata": {},
     "output_type": "execute_result"
    }
   ],
   "source": [
    "read_data.trans_data('nima.txt',one_hot_key=True,standard_scaler=False)"
   ]
  },
  {
   "cell_type": "code",
   "execution_count": null,
   "metadata": {},
   "outputs": [],
   "source": []
  }
 ],
 "metadata": {
  "kernelspec": {
   "display_name": "Python 3",
   "language": "python",
   "name": "python3"
  },
  "language_info": {
   "codemirror_mode": {
    "name": "ipython",
    "version": 3
   },
   "file_extension": ".py",
   "mimetype": "text/x-python",
   "name": "python",
   "nbconvert_exporter": "python",
   "pygments_lexer": "ipython3",
   "version": "3.6.5"
  }
 },
 "nbformat": 4,
 "nbformat_minor": 2
}
