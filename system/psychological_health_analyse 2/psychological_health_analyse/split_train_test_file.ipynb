{
 "cells": [
  {
   "cell_type": "code",
   "execution_count": 1,
   "metadata": {},
   "outputs": [],
   "source": [
    "import pandas as pd\n",
    "from sklearn.model_selection import train_test_split\n",
    "pd_data = pd.read_excel('./data/data.xlsx')\n",
    "# 划分训练集和测试集\n",
    "train,test = train_test_split(pd_data,test_size = 0.2,random_state=42)\n",
    "\n",
    "# 保存训练集\n",
    "writer = pd.ExcelWriter('./data/train_data.xlsx')\n",
    "df1 = pd.DataFrame(data=train)\n",
    "df1.to_excel(writer,'Sheet1',index=False)\n",
    "writer.save()\n",
    "\n",
    "# 保存测试集\n",
    "writer = pd.ExcelWriter('./data/test_data.xlsx')\n",
    "df1 = pd.DataFrame(data=test)\n",
    "df1.to_excel(writer,'Sheet1',index=False)\n",
    "writer.save()"
   ]
  },
  {
   "cell_type": "code",
   "execution_count": 4,
   "metadata": {},
   "outputs": [
    {
     "data": {
      "text/plain": [
       "[[[1, 2, 3, 4, 0], [1, 2, 3, 4, 0], [1, 2, 3, 4, 0], [1, 2, 3, 4, 0]],\n",
       " [[1, 2, 3, 4, 0], [1, 2, 3, 4, 0]],\n",
       " [6, 3, 5, 4],\n",
       " [1, 2]]"
      ]
     },
     "execution_count": 4,
     "metadata": {},
     "output_type": "execute_result"
    }
   ],
   "source": [
    "a = [[1,2,3,4,0],\n",
    "    [1,2,3,4,0],\n",
    "    [1,2,3,4,0],\n",
    "    [1,2,3,4,0],\n",
    "    [1,2,3,4,0],\n",
    "    [1,2,3,4,0],]\n",
    "b = [1,2,3,4,5,6]\n",
    "train_test_split(a,b,test_size = 0.2,random_state=42)"
   ]
  },
  {
   "cell_type": "code",
   "execution_count": 1,
   "metadata": {},
   "outputs": [],
   "source": [
    "import pandas as pd\n",
    "from sklearn.model_selection import train_test_split\n",
    "pd_data = pd.read_excel('./data/data.xlsx')"
   ]
  },
  {
   "cell_type": "code",
   "execution_count": 10,
   "metadata": {},
   "outputs": [],
   "source": [
    "pd_data[\"姓名\"] = pd_data.index"
   ]
  },
  {
   "cell_type": "code",
   "execution_count": 19,
   "metadata": {},
   "outputs": [
    {
     "data": {
      "text/plain": [
       "0            0\n",
       "1            1\n",
       "2            2\n",
       "3            3\n",
       "4            4\n",
       "5            5\n",
       "6            6\n",
       "7            7\n",
       "8            8\n",
       "9            9\n",
       "10          10\n",
       "11          11\n",
       "12          12\n",
       "13          13\n",
       "14          14\n",
       "15          15\n",
       "16          16\n",
       "17          17\n",
       "18          18\n",
       "19          19\n",
       "20          20\n",
       "21          21\n",
       "22          22\n",
       "23          23\n",
       "24          24\n",
       "25          25\n",
       "26          26\n",
       "27          27\n",
       "28          28\n",
       "29          29\n",
       "         ...  \n",
       "12798    12798\n",
       "12799    12799\n",
       "12800    12800\n",
       "12801    12801\n",
       "12802    12802\n",
       "12803    12803\n",
       "12804    12804\n",
       "12805    12805\n",
       "12806    12806\n",
       "12807    12807\n",
       "12808    12808\n",
       "12809    12809\n",
       "12810    12810\n",
       "12811    12811\n",
       "12812    12812\n",
       "12813    12813\n",
       "12814    12814\n",
       "12815    12815\n",
       "12816    12816\n",
       "12817    12817\n",
       "12818    12818\n",
       "12819    12819\n",
       "12820    12820\n",
       "12821    12821\n",
       "12822    12822\n",
       "12823    12823\n",
       "12824    12824\n",
       "12825    12825\n",
       "12826    12826\n",
       "12827    12827\n",
       "Name: 姓名, Length: 12828, dtype: int64"
      ]
     },
     "execution_count": 19,
     "metadata": {},
     "output_type": "execute_result"
    }
   ],
   "source": [
    "pd_data.iloc[:,0]"
   ]
  },
  {
   "cell_type": "code",
   "execution_count": null,
   "metadata": {},
   "outputs": [],
   "source": []
  }
 ],
 "metadata": {
  "kernelspec": {
   "display_name": "Python 3",
   "language": "python",
   "name": "python3"
  },
  "language_info": {
   "codemirror_mode": {
    "name": "ipython",
    "version": 3
   },
   "file_extension": ".py",
   "mimetype": "text/x-python",
   "name": "python",
   "nbconvert_exporter": "python",
   "pygments_lexer": "ipython3",
   "version": "3.6.5"
  }
 },
 "nbformat": 4,
 "nbformat_minor": 2
}
