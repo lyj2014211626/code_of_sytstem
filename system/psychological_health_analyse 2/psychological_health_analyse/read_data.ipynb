{
 "cells": [
  {
   "cell_type": "code",
   "execution_count": 1,
   "metadata": {},
   "outputs": [],
   "source": [
    "import pandas as pd"
   ]
  },
  {
   "cell_type": "code",
   "execution_count": 71,
   "metadata": {},
   "outputs": [],
   "source": [
    "data = pd.read_csv('./data.txt',header=None,sep=\"\\t\")"
   ]
  },
  {
   "cell_type": "code",
   "execution_count": 72,
   "metadata": {},
   "outputs": [],
   "source": [
    "np_data = data.values"
   ]
  },
  {
   "cell_type": "code",
   "execution_count": 33,
   "metadata": {},
   "outputs": [],
   "source": [
    "features = data[:,:19]"
   ]
  },
  {
   "cell_type": "code",
   "execution_count": 34,
   "metadata": {},
   "outputs": [
    {
     "data": {
      "text/plain": [
       "(12828, 19)"
      ]
     },
     "execution_count": 34,
     "metadata": {},
     "output_type": "execute_result"
    }
   ],
   "source": [
    "features.shape"
   ]
  },
  {
   "cell_type": "code",
   "execution_count": 35,
   "metadata": {},
   "outputs": [],
   "source": [
    "target_label = data[:,19:]"
   ]
  },
  {
   "cell_type": "code",
   "execution_count": 36,
   "metadata": {},
   "outputs": [
    {
     "data": {
      "text/plain": [
       "array([[0.],\n",
       "       [0.],\n",
       "       [0.],\n",
       "       ...,\n",
       "       [0.],\n",
       "       [0.],\n",
       "       [0.]])"
      ]
     },
     "execution_count": 36,
     "metadata": {},
     "output_type": "execute_result"
    }
   ],
   "source": [
    "target_label"
   ]
  },
  {
   "cell_type": "code",
   "execution_count": 37,
   "metadata": {},
   "outputs": [
    {
     "data": {
      "text/plain": [
       "array([[  0.  ,  10.  ,   3.  , ...,   0.26, 103.  ,  34.  ],\n",
       "       [  0.  ,   5.  ,   3.  , ...,   0.34, 101.  ,  30.  ],\n",
       "       [  0.  ,  12.  ,   2.  , ...,   0.29, 119.  ,  40.  ],\n",
       "       ...,\n",
       "       [  1.  ,  10.  ,   3.  , ...,   0.3 , 107.  ,  40.  ],\n",
       "       [  1.  ,  15.  ,   1.  , ...,   0.63,  65.  ,  24.  ],\n",
       "       [  0.  ,   3.  ,   1.  , ...,   0.48,  91.  ,  32.  ]])"
      ]
     },
     "execution_count": 37,
     "metadata": {},
     "output_type": "execute_result"
    }
   ],
   "source": [
    "features"
   ]
  },
  {
   "cell_type": "code",
   "execution_count": 56,
   "metadata": {},
   "outputs": [],
   "source": [
    "from sklearn.tree import DecisionTreeClassifier\n",
    "from sklearn.model_selection import train_test_split\n",
    "from sklearn.preprocessing import StandardScaler"
   ]
  },
  {
   "cell_type": "code",
   "execution_count": 81,
   "metadata": {},
   "outputs": [],
   "source": [
    "scaler = StandardScaler()\n",
    "scaled_features = scaler.fit_transform(features)\n",
    "features_train,features_test,label_train,label_test = train_test_split(scaled_features,target_label,test_size = 0.2)\n",
    "tree_clf = DecisionTreeClassifier()\n",
    "tree_clf.fit(features_train,label_train)\n",
    "label_predict = tree_clf.predict(features_test)"
   ]
  },
  {
   "cell_type": "code",
   "execution_count": 82,
   "metadata": {},
   "outputs": [],
   "source": [
    "from sklearn.metrics import accuracy_score"
   ]
  },
  {
   "cell_type": "code",
   "execution_count": 83,
   "metadata": {},
   "outputs": [
    {
     "data": {
      "text/plain": [
       "0.7844894777864381"
      ]
     },
     "execution_count": 83,
     "metadata": {},
     "output_type": "execute_result"
    }
   ],
   "source": [
    "accuracy_score(label_test,label_predict)"
   ]
  },
  {
   "cell_type": "code",
   "execution_count": 64,
   "metadata": {},
   "outputs": [],
   "source": [
    "from sklearn.neighbors import KNeighborsClassifier"
   ]
  },
  {
   "cell_type": "code",
   "execution_count": 65,
   "metadata": {},
   "outputs": [
    {
     "name": "stderr",
     "output_type": "stream",
     "text": [
      "/Users/wangweikai/anaconda3/lib/python3.6/site-packages/ipykernel_launcher.py:2: DataConversionWarning: A column-vector y was passed when a 1d array was expected. Please change the shape of y to (n_samples, ), for example using ravel().\n",
      "  \n"
     ]
    },
    {
     "data": {
      "text/plain": [
       "KNeighborsClassifier(algorithm='auto', leaf_size=30, metric='minkowski',\n",
       "           metric_params=None, n_jobs=1, n_neighbors=5, p=2,\n",
       "           weights='uniform')"
      ]
     },
     "execution_count": 65,
     "metadata": {},
     "output_type": "execute_result"
    }
   ],
   "source": [
    "knn_clf = KNeighborsClassifier()\n",
    "knn_clf.fit(features_train,label_train)"
   ]
  },
  {
   "cell_type": "code",
   "execution_count": 66,
   "metadata": {},
   "outputs": [
    {
     "data": {
      "text/plain": [
       "0.872954014029618"
      ]
     },
     "execution_count": 66,
     "metadata": {},
     "output_type": "execute_result"
    }
   ],
   "source": [
    "label_predict = knn_clf.predict(features_test)\n",
    "accuracy_score(label_test,label_predict)"
   ]
  },
  {
   "cell_type": "code",
   "execution_count": 84,
   "metadata": {},
   "outputs": [],
   "source": [
    "from sklearn.ensemble import RandomForestClassifier"
   ]
  },
  {
   "cell_type": "code",
   "execution_count": 88,
   "metadata": {},
   "outputs": [
    {
     "name": "stderr",
     "output_type": "stream",
     "text": [
      "/Users/wangweikai/anaconda3/lib/python3.6/site-packages/ipykernel_launcher.py:2: DataConversionWarning: A column-vector y was passed when a 1d array was expected. Please change the shape of y to (n_samples,), for example using ravel().\n",
      "  \n"
     ]
    },
    {
     "name": "stdout",
     "output_type": "stream",
     "text": [
      "test accuracy =  0.8745128604832424\n",
      "train accuracy =  0.8945624634574157\n"
     ]
    }
   ],
   "source": [
    "rnd_clf = RandomForestClassifier(max_depth= 8, max_features= 8, n_estimators = 131)\n",
    "rnd_clf.fit(features_train,label_train)\n",
    "label_predict = rnd_clf.predict(features_test)\n",
    "print(\"test accuracy = \",accuracy_score(label_test,label_predict))\n",
    "label_predict = rnd_clf.predict(features_train)\n",
    "print(\"train accuracy = \",accuracy_score(label_train,label_predict))"
   ]
  },
  {
   "cell_type": "code",
   "execution_count": 73,
   "metadata": {},
   "outputs": [
    {
     "data": {
      "text/html": [
       "<div>\n",
       "<style scoped>\n",
       "    .dataframe tbody tr th:only-of-type {\n",
       "        vertical-align: middle;\n",
       "    }\n",
       "\n",
       "    .dataframe tbody tr th {\n",
       "        vertical-align: top;\n",
       "    }\n",
       "\n",
       "    .dataframe thead th {\n",
       "        text-align: right;\n",
       "    }\n",
       "</style>\n",
       "<table border=\"1\" class=\"dataframe\">\n",
       "  <thead>\n",
       "    <tr style=\"text-align: right;\">\n",
       "      <th></th>\n",
       "      <th>0</th>\n",
       "      <th>1</th>\n",
       "      <th>2</th>\n",
       "      <th>3</th>\n",
       "      <th>4</th>\n",
       "      <th>5</th>\n",
       "      <th>6</th>\n",
       "      <th>7</th>\n",
       "      <th>8</th>\n",
       "      <th>9</th>\n",
       "      <th>10</th>\n",
       "      <th>11</th>\n",
       "      <th>12</th>\n",
       "      <th>13</th>\n",
       "      <th>14</th>\n",
       "      <th>15</th>\n",
       "      <th>16</th>\n",
       "      <th>17</th>\n",
       "      <th>18</th>\n",
       "      <th>19</th>\n",
       "    </tr>\n",
       "  </thead>\n",
       "  <tbody>\n",
       "    <tr>\n",
       "      <th>count</th>\n",
       "      <td>12828.000000</td>\n",
       "      <td>12828.000000</td>\n",
       "      <td>12828.000000</td>\n",
       "      <td>12828.000000</td>\n",
       "      <td>12828.000000</td>\n",
       "      <td>12828.000000</td>\n",
       "      <td>12828.000000</td>\n",
       "      <td>12828.000000</td>\n",
       "      <td>12828.000000</td>\n",
       "      <td>12828.000000</td>\n",
       "      <td>12828.000000</td>\n",
       "      <td>12828.000000</td>\n",
       "      <td>12828.000000</td>\n",
       "      <td>12828.000000</td>\n",
       "      <td>12828.000000</td>\n",
       "      <td>12828.000000</td>\n",
       "      <td>12828.000000</td>\n",
       "      <td>12828.000000</td>\n",
       "      <td>12828.000000</td>\n",
       "      <td>12828.000000</td>\n",
       "    </tr>\n",
       "    <tr>\n",
       "      <th>mean</th>\n",
       "      <td>0.344481</td>\n",
       "      <td>8.493686</td>\n",
       "      <td>1.979966</td>\n",
       "      <td>1.307382</td>\n",
       "      <td>1.772326</td>\n",
       "      <td>1.629482</td>\n",
       "      <td>1.439077</td>\n",
       "      <td>1.473269</td>\n",
       "      <td>1.414230</td>\n",
       "      <td>1.297137</td>\n",
       "      <td>1.451466</td>\n",
       "      <td>1.421133</td>\n",
       "      <td>1.430262</td>\n",
       "      <td>1.466860</td>\n",
       "      <td>2.183300</td>\n",
       "      <td>0.353446</td>\n",
       "      <td>0.423294</td>\n",
       "      <td>88.189975</td>\n",
       "      <td>32.598457</td>\n",
       "      <td>0.151777</td>\n",
       "    </tr>\n",
       "    <tr>\n",
       "      <th>std</th>\n",
       "      <td>0.475217</td>\n",
       "      <td>4.804630</td>\n",
       "      <td>0.819571</td>\n",
       "      <td>0.348332</td>\n",
       "      <td>0.513940</td>\n",
       "      <td>0.512594</td>\n",
       "      <td>0.434769</td>\n",
       "      <td>0.421584</td>\n",
       "      <td>0.436443</td>\n",
       "      <td>0.371511</td>\n",
       "      <td>0.437103</td>\n",
       "      <td>0.398324</td>\n",
       "      <td>0.413069</td>\n",
       "      <td>0.369269</td>\n",
       "      <td>0.400197</td>\n",
       "      <td>1.195007</td>\n",
       "      <td>0.091053</td>\n",
       "      <td>13.489570</td>\n",
       "      <td>4.596349</td>\n",
       "      <td>0.450867</td>\n",
       "    </tr>\n",
       "    <tr>\n",
       "      <th>min</th>\n",
       "      <td>0.000000</td>\n",
       "      <td>1.000000</td>\n",
       "      <td>1.000000</td>\n",
       "      <td>1.000000</td>\n",
       "      <td>1.000000</td>\n",
       "      <td>1.000000</td>\n",
       "      <td>1.000000</td>\n",
       "      <td>1.000000</td>\n",
       "      <td>1.000000</td>\n",
       "      <td>1.000000</td>\n",
       "      <td>1.000000</td>\n",
       "      <td>1.000000</td>\n",
       "      <td>1.000000</td>\n",
       "      <td>1.000000</td>\n",
       "      <td>0.000000</td>\n",
       "      <td>0.000000</td>\n",
       "      <td>0.250000</td>\n",
       "      <td>19.000000</td>\n",
       "      <td>10.000000</td>\n",
       "      <td>0.000000</td>\n",
       "    </tr>\n",
       "    <tr>\n",
       "      <th>25%</th>\n",
       "      <td>0.000000</td>\n",
       "      <td>5.000000</td>\n",
       "      <td>1.000000</td>\n",
       "      <td>1.080000</td>\n",
       "      <td>1.400000</td>\n",
       "      <td>1.220000</td>\n",
       "      <td>1.080000</td>\n",
       "      <td>1.200000</td>\n",
       "      <td>1.170000</td>\n",
       "      <td>1.000000</td>\n",
       "      <td>1.170000</td>\n",
       "      <td>1.100000</td>\n",
       "      <td>1.140000</td>\n",
       "      <td>1.190000</td>\n",
       "      <td>2.010000</td>\n",
       "      <td>0.000000</td>\n",
       "      <td>0.350000</td>\n",
       "      <td>79.000000</td>\n",
       "      <td>29.000000</td>\n",
       "      <td>0.000000</td>\n",
       "    </tr>\n",
       "    <tr>\n",
       "      <th>50%</th>\n",
       "      <td>0.000000</td>\n",
       "      <td>8.000000</td>\n",
       "      <td>2.000000</td>\n",
       "      <td>1.170000</td>\n",
       "      <td>1.700000</td>\n",
       "      <td>1.560000</td>\n",
       "      <td>1.310000</td>\n",
       "      <td>1.400000</td>\n",
       "      <td>1.330000</td>\n",
       "      <td>1.140000</td>\n",
       "      <td>1.330000</td>\n",
       "      <td>1.300000</td>\n",
       "      <td>1.290000</td>\n",
       "      <td>1.390000</td>\n",
       "      <td>2.130000</td>\n",
       "      <td>0.000000</td>\n",
       "      <td>0.410000</td>\n",
       "      <td>89.000000</td>\n",
       "      <td>32.000000</td>\n",
       "      <td>0.000000</td>\n",
       "    </tr>\n",
       "    <tr>\n",
       "      <th>75%</th>\n",
       "      <td>1.000000</td>\n",
       "      <td>12.000000</td>\n",
       "      <td>3.000000</td>\n",
       "      <td>1.500000</td>\n",
       "      <td>2.000000</td>\n",
       "      <td>1.890000</td>\n",
       "      <td>1.620000</td>\n",
       "      <td>1.700000</td>\n",
       "      <td>1.670000</td>\n",
       "      <td>1.430000</td>\n",
       "      <td>1.670000</td>\n",
       "      <td>1.600000</td>\n",
       "      <td>1.570000</td>\n",
       "      <td>1.660000</td>\n",
       "      <td>2.300000</td>\n",
       "      <td>0.000000</td>\n",
       "      <td>0.480000</td>\n",
       "      <td>98.000000</td>\n",
       "      <td>36.000000</td>\n",
       "      <td>0.000000</td>\n",
       "    </tr>\n",
       "    <tr>\n",
       "      <th>max</th>\n",
       "      <td>1.000000</td>\n",
       "      <td>19.000000</td>\n",
       "      <td>3.000000</td>\n",
       "      <td>5.000000</td>\n",
       "      <td>5.000000</td>\n",
       "      <td>5.000000</td>\n",
       "      <td>5.000000</td>\n",
       "      <td>5.000000</td>\n",
       "      <td>5.000000</td>\n",
       "      <td>5.000000</td>\n",
       "      <td>5.000000</td>\n",
       "      <td>5.000000</td>\n",
       "      <td>5.000000</td>\n",
       "      <td>5.000000</td>\n",
       "      <td>5.000000</td>\n",
       "      <td>10.000000</td>\n",
       "      <td>0.890000</td>\n",
       "      <td>120.000000</td>\n",
       "      <td>40.000000</td>\n",
       "      <td>3.000000</td>\n",
       "    </tr>\n",
       "  </tbody>\n",
       "</table>\n",
       "</div>"
      ],
      "text/plain": [
       "                 0             1             2             3             4   \\\n",
       "count  12828.000000  12828.000000  12828.000000  12828.000000  12828.000000   \n",
       "mean       0.344481      8.493686      1.979966      1.307382      1.772326   \n",
       "std        0.475217      4.804630      0.819571      0.348332      0.513940   \n",
       "min        0.000000      1.000000      1.000000      1.000000      1.000000   \n",
       "25%        0.000000      5.000000      1.000000      1.080000      1.400000   \n",
       "50%        0.000000      8.000000      2.000000      1.170000      1.700000   \n",
       "75%        1.000000     12.000000      3.000000      1.500000      2.000000   \n",
       "max        1.000000     19.000000      3.000000      5.000000      5.000000   \n",
       "\n",
       "                 5             6             7             8             9   \\\n",
       "count  12828.000000  12828.000000  12828.000000  12828.000000  12828.000000   \n",
       "mean       1.629482      1.439077      1.473269      1.414230      1.297137   \n",
       "std        0.512594      0.434769      0.421584      0.436443      0.371511   \n",
       "min        1.000000      1.000000      1.000000      1.000000      1.000000   \n",
       "25%        1.220000      1.080000      1.200000      1.170000      1.000000   \n",
       "50%        1.560000      1.310000      1.400000      1.330000      1.140000   \n",
       "75%        1.890000      1.620000      1.700000      1.670000      1.430000   \n",
       "max        5.000000      5.000000      5.000000      5.000000      5.000000   \n",
       "\n",
       "                 10            11            12            13            14  \\\n",
       "count  12828.000000  12828.000000  12828.000000  12828.000000  12828.000000   \n",
       "mean       1.451466      1.421133      1.430262      1.466860      2.183300   \n",
       "std        0.437103      0.398324      0.413069      0.369269      0.400197   \n",
       "min        1.000000      1.000000      1.000000      1.000000      0.000000   \n",
       "25%        1.170000      1.100000      1.140000      1.190000      2.010000   \n",
       "50%        1.330000      1.300000      1.290000      1.390000      2.130000   \n",
       "75%        1.670000      1.600000      1.570000      1.660000      2.300000   \n",
       "max        5.000000      5.000000      5.000000      5.000000      5.000000   \n",
       "\n",
       "                 15            16            17            18            19  \n",
       "count  12828.000000  12828.000000  12828.000000  12828.000000  12828.000000  \n",
       "mean       0.353446      0.423294     88.189975     32.598457      0.151777  \n",
       "std        1.195007      0.091053     13.489570      4.596349      0.450867  \n",
       "min        0.000000      0.250000     19.000000     10.000000      0.000000  \n",
       "25%        0.000000      0.350000     79.000000     29.000000      0.000000  \n",
       "50%        0.000000      0.410000     89.000000     32.000000      0.000000  \n",
       "75%        0.000000      0.480000     98.000000     36.000000      0.000000  \n",
       "max       10.000000      0.890000    120.000000     40.000000      3.000000  "
      ]
     },
     "execution_count": 73,
     "metadata": {},
     "output_type": "execute_result"
    }
   ],
   "source": [
    "data.describe()"
   ]
  },
  {
   "cell_type": "code",
   "execution_count": 74,
   "metadata": {},
   "outputs": [
    {
     "name": "stdout",
     "output_type": "stream",
     "text": [
      "<class 'pandas.core.frame.DataFrame'>\n",
      "RangeIndex: 12828 entries, 0 to 12827\n",
      "Data columns (total 20 columns):\n",
      "0     12828 non-null int64\n",
      "1     12828 non-null int64\n",
      "2     12828 non-null int64\n",
      "3     12828 non-null float64\n",
      "4     12828 non-null float64\n",
      "5     12828 non-null float64\n",
      "6     12828 non-null float64\n",
      "7     12828 non-null float64\n",
      "8     12828 non-null float64\n",
      "9     12828 non-null float64\n",
      "10    12828 non-null float64\n",
      "11    12828 non-null float64\n",
      "12    12828 non-null float64\n",
      "13    12828 non-null float64\n",
      "14    12828 non-null float64\n",
      "15    12828 non-null int64\n",
      "16    12828 non-null float64\n",
      "17    12828 non-null int64\n",
      "18    12828 non-null int64\n",
      "19    12828 non-null int64\n",
      "dtypes: float64(13), int64(7)\n",
      "memory usage: 2.0 MB\n"
     ]
    }
   ],
   "source": [
    "data.info()"
   ]
  },
  {
   "cell_type": "code",
   "execution_count": null,
   "metadata": {},
   "outputs": [],
   "source": []
  },
  {
   "cell_type": "code",
   "execution_count": null,
   "metadata": {},
   "outputs": [],
   "source": []
  },
  {
   "cell_type": "code",
   "execution_count": null,
   "metadata": {},
   "outputs": [],
   "source": []
  },
  {
   "cell_type": "code",
   "execution_count": null,
   "metadata": {},
   "outputs": [],
   "source": []
  },
  {
   "cell_type": "code",
   "execution_count": null,
   "metadata": {},
   "outputs": [],
   "source": []
  },
  {
   "cell_type": "code",
   "execution_count": null,
   "metadata": {},
   "outputs": [],
   "source": []
  },
  {
   "cell_type": "code",
   "execution_count": null,
   "metadata": {},
   "outputs": [],
   "source": []
  },
  {
   "cell_type": "code",
   "execution_count": null,
   "metadata": {},
   "outputs": [],
   "source": []
  },
  {
   "cell_type": "code",
   "execution_count": null,
   "metadata": {},
   "outputs": [],
   "source": []
  },
  {
   "cell_type": "code",
   "execution_count": null,
   "metadata": {},
   "outputs": [],
   "source": []
  },
  {
   "cell_type": "code",
   "execution_count": 91,
   "metadata": {},
   "outputs": [
    {
     "name": "stdout",
     "output_type": "stream",
     "text": [
      "10\n"
     ]
    }
   ],
   "source": [
    "def f():\n",
    "    global a\n",
    "    a = 100\n",
    "    \n",
    "def ff():\n",
    "    a = 10\n",
    "    f()\n",
    "    print(a)\n",
    "\n",
    "    \n",
    "ff()"
   ]
  },
  {
   "cell_type": "code",
   "execution_count": 92,
   "metadata": {},
   "outputs": [
    {
     "name": "stdout",
     "output_type": "stream",
     "text": [
      "100\n"
     ]
    }
   ],
   "source": [
    "def f(flag = 'a'):\n",
    "    print(flag)\n",
    "    \n",
    "f(100)"
   ]
  },
  {
   "cell_type": "code",
   "execution_count": null,
   "metadata": {},
   "outputs": [],
   "source": []
  },
  {
   "cell_type": "code",
   "execution_count": null,
   "metadata": {},
   "outputs": [],
   "source": []
  },
  {
   "cell_type": "code",
   "execution_count": null,
   "metadata": {},
   "outputs": [],
   "source": []
  },
  {
   "cell_type": "code",
   "execution_count": null,
   "metadata": {},
   "outputs": [],
   "source": []
  },
  {
   "cell_type": "code",
   "execution_count": null,
   "metadata": {},
   "outputs": [],
   "source": []
  },
  {
   "cell_type": "code",
   "execution_count": null,
   "metadata": {},
   "outputs": [],
   "source": []
  },
  {
   "cell_type": "code",
   "execution_count": null,
   "metadata": {},
   "outputs": [],
   "source": []
  },
  {
   "cell_type": "code",
   "execution_count": null,
   "metadata": {},
   "outputs": [],
   "source": []
  },
  {
   "cell_type": "markdown",
   "metadata": {},
   "source": [
    "## SVM"
   ]
  },
  {
   "cell_type": "code",
   "execution_count": 95,
   "metadata": {},
   "outputs": [],
   "source": []
  },
  {
   "cell_type": "code",
   "execution_count": null,
   "metadata": {},
   "outputs": [],
   "source": []
  }
 ],
 "metadata": {
  "kernelspec": {
   "display_name": "Python 3",
   "language": "python",
   "name": "python3"
  },
  "language_info": {
   "codemirror_mode": {
    "name": "ipython",
    "version": 3
   },
   "file_extension": ".py",
   "mimetype": "text/x-python",
   "name": "python",
   "nbconvert_exporter": "python",
   "pygments_lexer": "ipython3",
   "version": "3.6.5"
  }
 },
 "nbformat": 4,
 "nbformat_minor": 2
}
